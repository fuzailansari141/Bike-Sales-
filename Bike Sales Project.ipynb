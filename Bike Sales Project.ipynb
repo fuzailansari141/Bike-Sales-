{
 "cells": [
  {
   "cell_type": "code",
   "execution_count": 1,
   "id": "2385fb27",
   "metadata": {},
   "outputs": [],
   "source": [
    "import pandas as pd\n",
    "import numpy as np\n",
    "import matplotlib.pyplot as plt\n",
    "import seaborn as sns \n",
    "import warnings\n",
    "warnings.filterwarnings(\"ignore\")"
   ]
  },
  {
   "cell_type": "code",
   "execution_count": 2,
   "id": "e3c5eee9",
   "metadata": {},
   "outputs": [],
   "source": [
    "df=pd.read_csv('Sales.csv')"
   ]
  },
  {
   "cell_type": "code",
   "execution_count": 3,
   "id": "1c39cf81",
   "metadata": {},
   "outputs": [
    {
     "data": {
      "text/html": [
       "<div>\n",
       "<style scoped>\n",
       "    .dataframe tbody tr th:only-of-type {\n",
       "        vertical-align: middle;\n",
       "    }\n",
       "\n",
       "    .dataframe tbody tr th {\n",
       "        vertical-align: top;\n",
       "    }\n",
       "\n",
       "    .dataframe thead th {\n",
       "        text-align: right;\n",
       "    }\n",
       "</style>\n",
       "<table border=\"1\" class=\"dataframe\">\n",
       "  <thead>\n",
       "    <tr style=\"text-align: right;\">\n",
       "      <th></th>\n",
       "      <th>Date</th>\n",
       "      <th>Day</th>\n",
       "      <th>Month</th>\n",
       "      <th>Year</th>\n",
       "      <th>Customer_Age</th>\n",
       "      <th>Age_Group</th>\n",
       "      <th>Customer_Gender</th>\n",
       "      <th>Country</th>\n",
       "      <th>State</th>\n",
       "      <th>Product_Category</th>\n",
       "      <th>Sub_Category</th>\n",
       "      <th>Product</th>\n",
       "      <th>Order_Quantity</th>\n",
       "      <th>Unit_Cost</th>\n",
       "      <th>Unit_Price</th>\n",
       "      <th>Profit</th>\n",
       "      <th>Cost</th>\n",
       "      <th>Revenue</th>\n",
       "    </tr>\n",
       "  </thead>\n",
       "  <tbody>\n",
       "    <tr>\n",
       "      <th>0</th>\n",
       "      <td>2013-11-26</td>\n",
       "      <td>26</td>\n",
       "      <td>November</td>\n",
       "      <td>2013</td>\n",
       "      <td>19</td>\n",
       "      <td>Youth (&lt;25)</td>\n",
       "      <td>M</td>\n",
       "      <td>Canada</td>\n",
       "      <td>British Columbia</td>\n",
       "      <td>Accessories</td>\n",
       "      <td>Bike Racks</td>\n",
       "      <td>Hitch Rack - 4-Bike</td>\n",
       "      <td>8</td>\n",
       "      <td>45</td>\n",
       "      <td>120</td>\n",
       "      <td>590</td>\n",
       "      <td>360</td>\n",
       "      <td>950</td>\n",
       "    </tr>\n",
       "    <tr>\n",
       "      <th>1</th>\n",
       "      <td>2015-11-26</td>\n",
       "      <td>26</td>\n",
       "      <td>November</td>\n",
       "      <td>2015</td>\n",
       "      <td>19</td>\n",
       "      <td>Youth (&lt;25)</td>\n",
       "      <td>M</td>\n",
       "      <td>Canada</td>\n",
       "      <td>British Columbia</td>\n",
       "      <td>Accessories</td>\n",
       "      <td>Bike Racks</td>\n",
       "      <td>Hitch Rack - 4-Bike</td>\n",
       "      <td>8</td>\n",
       "      <td>45</td>\n",
       "      <td>120</td>\n",
       "      <td>590</td>\n",
       "      <td>360</td>\n",
       "      <td>950</td>\n",
       "    </tr>\n",
       "    <tr>\n",
       "      <th>2</th>\n",
       "      <td>2014-03-23</td>\n",
       "      <td>23</td>\n",
       "      <td>March</td>\n",
       "      <td>2014</td>\n",
       "      <td>49</td>\n",
       "      <td>Adults (35-64)</td>\n",
       "      <td>M</td>\n",
       "      <td>Australia</td>\n",
       "      <td>New South Wales</td>\n",
       "      <td>Accessories</td>\n",
       "      <td>Bike Racks</td>\n",
       "      <td>Hitch Rack - 4-Bike</td>\n",
       "      <td>23</td>\n",
       "      <td>45</td>\n",
       "      <td>120</td>\n",
       "      <td>1366</td>\n",
       "      <td>1035</td>\n",
       "      <td>2401</td>\n",
       "    </tr>\n",
       "    <tr>\n",
       "      <th>3</th>\n",
       "      <td>2016-03-23</td>\n",
       "      <td>23</td>\n",
       "      <td>March</td>\n",
       "      <td>2016</td>\n",
       "      <td>49</td>\n",
       "      <td>Adults (35-64)</td>\n",
       "      <td>M</td>\n",
       "      <td>Australia</td>\n",
       "      <td>New South Wales</td>\n",
       "      <td>Accessories</td>\n",
       "      <td>Bike Racks</td>\n",
       "      <td>Hitch Rack - 4-Bike</td>\n",
       "      <td>20</td>\n",
       "      <td>45</td>\n",
       "      <td>120</td>\n",
       "      <td>1188</td>\n",
       "      <td>900</td>\n",
       "      <td>2088</td>\n",
       "    </tr>\n",
       "    <tr>\n",
       "      <th>4</th>\n",
       "      <td>2014-05-15</td>\n",
       "      <td>15</td>\n",
       "      <td>May</td>\n",
       "      <td>2014</td>\n",
       "      <td>47</td>\n",
       "      <td>Adults (35-64)</td>\n",
       "      <td>F</td>\n",
       "      <td>Australia</td>\n",
       "      <td>New South Wales</td>\n",
       "      <td>Accessories</td>\n",
       "      <td>Bike Racks</td>\n",
       "      <td>Hitch Rack - 4-Bike</td>\n",
       "      <td>4</td>\n",
       "      <td>45</td>\n",
       "      <td>120</td>\n",
       "      <td>238</td>\n",
       "      <td>180</td>\n",
       "      <td>418</td>\n",
       "    </tr>\n",
       "  </tbody>\n",
       "</table>\n",
       "</div>"
      ],
      "text/plain": [
       "         Date  Day     Month  Year  Customer_Age       Age_Group  \\\n",
       "0  2013-11-26   26  November  2013            19     Youth (<25)   \n",
       "1  2015-11-26   26  November  2015            19     Youth (<25)   \n",
       "2  2014-03-23   23     March  2014            49  Adults (35-64)   \n",
       "3  2016-03-23   23     March  2016            49  Adults (35-64)   \n",
       "4  2014-05-15   15       May  2014            47  Adults (35-64)   \n",
       "\n",
       "  Customer_Gender    Country             State Product_Category Sub_Category  \\\n",
       "0               M     Canada  British Columbia      Accessories   Bike Racks   \n",
       "1               M     Canada  British Columbia      Accessories   Bike Racks   \n",
       "2               M  Australia   New South Wales      Accessories   Bike Racks   \n",
       "3               M  Australia   New South Wales      Accessories   Bike Racks   \n",
       "4               F  Australia   New South Wales      Accessories   Bike Racks   \n",
       "\n",
       "               Product  Order_Quantity  Unit_Cost  Unit_Price  Profit  Cost  \\\n",
       "0  Hitch Rack - 4-Bike               8         45         120     590   360   \n",
       "1  Hitch Rack - 4-Bike               8         45         120     590   360   \n",
       "2  Hitch Rack - 4-Bike              23         45         120    1366  1035   \n",
       "3  Hitch Rack - 4-Bike              20         45         120    1188   900   \n",
       "4  Hitch Rack - 4-Bike               4         45         120     238   180   \n",
       "\n",
       "   Revenue  \n",
       "0      950  \n",
       "1      950  \n",
       "2     2401  \n",
       "3     2088  \n",
       "4      418  "
      ]
     },
     "execution_count": 3,
     "metadata": {},
     "output_type": "execute_result"
    }
   ],
   "source": [
    "df.head()"
   ]
  },
  {
   "cell_type": "code",
   "execution_count": 4,
   "id": "219248d0",
   "metadata": {},
   "outputs": [
    {
     "name": "stdout",
     "output_type": "stream",
     "text": [
      "<class 'pandas.core.frame.DataFrame'>\n",
      "RangeIndex: 113036 entries, 0 to 113035\n",
      "Data columns (total 18 columns):\n",
      " #   Column            Non-Null Count   Dtype \n",
      "---  ------            --------------   ----- \n",
      " 0   Date              113036 non-null  object\n",
      " 1   Day               113036 non-null  int64 \n",
      " 2   Month             113036 non-null  object\n",
      " 3   Year              113036 non-null  int64 \n",
      " 4   Customer_Age      113036 non-null  int64 \n",
      " 5   Age_Group         113036 non-null  object\n",
      " 6   Customer_Gender   113036 non-null  object\n",
      " 7   Country           113036 non-null  object\n",
      " 8   State             113036 non-null  object\n",
      " 9   Product_Category  113036 non-null  object\n",
      " 10  Sub_Category      113036 non-null  object\n",
      " 11  Product           113036 non-null  object\n",
      " 12  Order_Quantity    113036 non-null  int64 \n",
      " 13  Unit_Cost         113036 non-null  int64 \n",
      " 14  Unit_Price        113036 non-null  int64 \n",
      " 15  Profit            113036 non-null  int64 \n",
      " 16  Cost              113036 non-null  int64 \n",
      " 17  Revenue           113036 non-null  int64 \n",
      "dtypes: int64(9), object(9)\n",
      "memory usage: 15.5+ MB\n"
     ]
    }
   ],
   "source": [
    "#check total number of columns,entries note down your findings\n",
    "df.info()\n",
    "# There are total 18 number of columns and 113036 records.\n",
    "# The Day, Year,Customer_Age,Order_Quantity,Unit_Cost,Unit_Price,Profit,Cost,Revenue columns are integer datatypes.\n",
    "# And the other column's are of object(string) datatypes.\n",
    "#There are total 9 integer datatypes and 9 object(string) datatypes"
   ]
  },
  {
   "cell_type": "code",
   "execution_count": 5,
   "id": "e5fa0df3",
   "metadata": {},
   "outputs": [
    {
     "data": {
      "text/plain": [
       "Date                0\n",
       "Day                 0\n",
       "Month               0\n",
       "Year                0\n",
       "Customer_Age        0\n",
       "Age_Group           0\n",
       "Customer_Gender     0\n",
       "Country             0\n",
       "State               0\n",
       "Product_Category    0\n",
       "Sub_Category        0\n",
       "Product             0\n",
       "Order_Quantity      0\n",
       "Unit_Cost           0\n",
       "Unit_Price          0\n",
       "Profit              0\n",
       "Cost                0\n",
       "Revenue             0\n",
       "dtype: int64"
      ]
     },
     "execution_count": 5,
     "metadata": {},
     "output_type": "execute_result"
    }
   ],
   "source": [
    "# find null values and if there are null values remove them.\n",
    "df.isnull().sum()\n",
    "#This dataset does not contain null values\n",
    "#Hence there is no need to remove null values."
   ]
  },
  {
   "cell_type": "code",
   "execution_count": 6,
   "id": "b264af49",
   "metadata": {},
   "outputs": [],
   "source": [
    "#Drop the Profit and Revenue column since it contains wrong data\n",
    "df.drop(['Profit','Revenue','Cost'],axis=1,inplace=True)"
   ]
  },
  {
   "cell_type": "code",
   "execution_count": 7,
   "id": "cb376112",
   "metadata": {},
   "outputs": [],
   "source": [
    "df['Cost']=df['Order_Quantity']*df['Unit_Cost']"
   ]
  },
  {
   "cell_type": "code",
   "execution_count": 8,
   "id": "299abf87",
   "metadata": {},
   "outputs": [],
   "source": [
    "#Add Revenue and Profit columns with the correct data\n",
    "df['Revenue']=df['Unit_Price']*df['Order_Quantity']\n",
    "#As we know that revenue is Unit price times order Quantity"
   ]
  },
  {
   "cell_type": "code",
   "execution_count": 9,
   "id": "da70aa5c",
   "metadata": {},
   "outputs": [],
   "source": [
    "df['Profit']=df['Revenue']-df['Cost']\n",
    "#And profit is the difference between revenue and cost"
   ]
  },
  {
   "cell_type": "code",
   "execution_count": 10,
   "id": "01bdd7a5",
   "metadata": {},
   "outputs": [
    {
     "data": {
      "text/plain": [
       "True"
      ]
     },
     "execution_count": 10,
     "metadata": {},
     "output_type": "execute_result"
    }
   ],
   "source": [
    "#Check for duplicate values in the dataset\n",
    "df.duplicated().any()\n",
    "#The output is \"True\", hence the dataset contains duplicate values"
   ]
  },
  {
   "cell_type": "code",
   "execution_count": 11,
   "id": "820996cd",
   "metadata": {},
   "outputs": [],
   "source": [
    "#Drop duplicates from the dataset and check again.\n",
    "df.drop_duplicates(inplace=True)"
   ]
  },
  {
   "cell_type": "code",
   "execution_count": 12,
   "id": "afea9bb0",
   "metadata": {},
   "outputs": [
    {
     "data": {
      "text/plain": [
       "False"
      ]
     },
     "execution_count": 12,
     "metadata": {},
     "output_type": "execute_result"
    }
   ],
   "source": [
    "df.duplicated().any()\n",
    "#There are no duplicate values remaining"
   ]
  },
  {
   "cell_type": "code",
   "execution_count": 13,
   "id": "72146c92",
   "metadata": {},
   "outputs": [
    {
     "data": {
      "text/plain": [
       "Index(['Date', 'Day', 'Month', 'Year', 'Customer_Age', 'Age_Group',\n",
       "       'Customer_Gender', 'Country', 'State', 'Product_Category',\n",
       "       'Sub_Category', 'Product', 'Order_Quantity', 'Unit_Cost', 'Unit_Price',\n",
       "       'Cost', 'Revenue', 'Profit'],\n",
       "      dtype='object')"
      ]
     },
     "execution_count": 13,
     "metadata": {},
     "output_type": "execute_result"
    }
   ],
   "source": [
    "#find the only names of the columns\n",
    "df.columns"
   ]
  },
  {
   "cell_type": "code",
   "execution_count": 14,
   "id": "75132c84",
   "metadata": {},
   "outputs": [
    {
     "data": {
      "text/plain": [
       "(112036, 18)"
      ]
     },
     "execution_count": 14,
     "metadata": {},
     "output_type": "execute_result"
    }
   ],
   "source": [
    "#find the columns and records \n",
    "df.shape\n",
    "#It shows (records,columns)"
   ]
  },
  {
   "cell_type": "code",
   "execution_count": 15,
   "id": "166831c6",
   "metadata": {},
   "outputs": [
    {
     "data": {
      "text/plain": [
       "Date                1884\n",
       "Day                   31\n",
       "Month                 12\n",
       "Year                   6\n",
       "Customer_Age          70\n",
       "Age_Group              4\n",
       "Customer_Gender        2\n",
       "Country                6\n",
       "State                 53\n",
       "Product_Category       3\n",
       "Sub_Category          17\n",
       "Product              130\n",
       "Order_Quantity        32\n",
       "Unit_Cost             34\n",
       "Unit_Price            36\n",
       "Cost                 360\n",
       "Revenue              436\n",
       "Profit               389\n",
       "dtype: int64"
      ]
     },
     "execution_count": 15,
     "metadata": {},
     "output_type": "execute_result"
    }
   ],
   "source": [
    "#Check no. of unique value present in each column\n",
    "df.nunique()\n",
    "#The revenue column consist of most number of unique columns\n",
    "#whereas the Product_category column consist of the least number of column"
   ]
  },
  {
   "cell_type": "code",
   "execution_count": 16,
   "id": "c5b8285b",
   "metadata": {},
   "outputs": [
    {
     "data": {
      "text/html": [
       "<div>\n",
       "<style scoped>\n",
       "    .dataframe tbody tr th:only-of-type {\n",
       "        vertical-align: middle;\n",
       "    }\n",
       "\n",
       "    .dataframe tbody tr th {\n",
       "        vertical-align: top;\n",
       "    }\n",
       "\n",
       "    .dataframe thead th {\n",
       "        text-align: right;\n",
       "    }\n",
       "</style>\n",
       "<table border=\"1\" class=\"dataframe\">\n",
       "  <thead>\n",
       "    <tr style=\"text-align: right;\">\n",
       "      <th></th>\n",
       "      <th>Day</th>\n",
       "      <th>Year</th>\n",
       "      <th>Customer_Age</th>\n",
       "      <th>Order_Quantity</th>\n",
       "      <th>Unit_Cost</th>\n",
       "      <th>Unit_Price</th>\n",
       "      <th>Cost</th>\n",
       "      <th>Revenue</th>\n",
       "      <th>Profit</th>\n",
       "    </tr>\n",
       "  </thead>\n",
       "  <tbody>\n",
       "    <tr>\n",
       "      <th>count</th>\n",
       "      <td>112036.000000</td>\n",
       "      <td>112036.000000</td>\n",
       "      <td>112036.000000</td>\n",
       "      <td>112036.000000</td>\n",
       "      <td>112036.000000</td>\n",
       "      <td>112036.000000</td>\n",
       "      <td>112036.000000</td>\n",
       "      <td>112036.000000</td>\n",
       "      <td>112036.000000</td>\n",
       "    </tr>\n",
       "    <tr>\n",
       "      <th>mean</th>\n",
       "      <td>15.665607</td>\n",
       "      <td>2014.400925</td>\n",
       "      <td>35.919508</td>\n",
       "      <td>11.904254</td>\n",
       "      <td>267.819603</td>\n",
       "      <td>453.850628</td>\n",
       "      <td>471.103333</td>\n",
       "      <td>845.162162</td>\n",
       "      <td>374.058829</td>\n",
       "    </tr>\n",
       "    <tr>\n",
       "      <th>std</th>\n",
       "      <td>8.781485</td>\n",
       "      <td>1.273327</td>\n",
       "      <td>11.016543</td>\n",
       "      <td>9.564877</td>\n",
       "      <td>550.218722</td>\n",
       "      <td>922.751848</td>\n",
       "      <td>886.971635</td>\n",
       "      <td>1469.637711</td>\n",
       "      <td>596.460858</td>\n",
       "    </tr>\n",
       "    <tr>\n",
       "      <th>min</th>\n",
       "      <td>1.000000</td>\n",
       "      <td>2011.000000</td>\n",
       "      <td>17.000000</td>\n",
       "      <td>1.000000</td>\n",
       "      <td>1.000000</td>\n",
       "      <td>2.000000</td>\n",
       "      <td>1.000000</td>\n",
       "      <td>2.000000</td>\n",
       "      <td>1.000000</td>\n",
       "    </tr>\n",
       "    <tr>\n",
       "      <th>25%</th>\n",
       "      <td>8.000000</td>\n",
       "      <td>2013.000000</td>\n",
       "      <td>28.000000</td>\n",
       "      <td>2.000000</td>\n",
       "      <td>2.000000</td>\n",
       "      <td>5.000000</td>\n",
       "      <td>28.000000</td>\n",
       "      <td>70.000000</td>\n",
       "      <td>39.000000</td>\n",
       "    </tr>\n",
       "    <tr>\n",
       "      <th>50%</th>\n",
       "      <td>16.000000</td>\n",
       "      <td>2014.000000</td>\n",
       "      <td>35.000000</td>\n",
       "      <td>10.000000</td>\n",
       "      <td>9.000000</td>\n",
       "      <td>25.000000</td>\n",
       "      <td>112.000000</td>\n",
       "      <td>245.000000</td>\n",
       "      <td>138.000000</td>\n",
       "    </tr>\n",
       "    <tr>\n",
       "      <th>75%</th>\n",
       "      <td>23.000000</td>\n",
       "      <td>2016.000000</td>\n",
       "      <td>43.000000</td>\n",
       "      <td>20.000000</td>\n",
       "      <td>42.000000</td>\n",
       "      <td>70.000000</td>\n",
       "      <td>442.000000</td>\n",
       "      <td>900.000000</td>\n",
       "      <td>435.000000</td>\n",
       "    </tr>\n",
       "    <tr>\n",
       "      <th>max</th>\n",
       "      <td>31.000000</td>\n",
       "      <td>2016.000000</td>\n",
       "      <td>87.000000</td>\n",
       "      <td>32.000000</td>\n",
       "      <td>2171.000000</td>\n",
       "      <td>3578.000000</td>\n",
       "      <td>42978.000000</td>\n",
       "      <td>69136.000000</td>\n",
       "      <td>26158.000000</td>\n",
       "    </tr>\n",
       "  </tbody>\n",
       "</table>\n",
       "</div>"
      ],
      "text/plain": [
       "                 Day           Year   Customer_Age  Order_Quantity  \\\n",
       "count  112036.000000  112036.000000  112036.000000   112036.000000   \n",
       "mean       15.665607    2014.400925      35.919508       11.904254   \n",
       "std         8.781485       1.273327      11.016543        9.564877   \n",
       "min         1.000000    2011.000000      17.000000        1.000000   \n",
       "25%         8.000000    2013.000000      28.000000        2.000000   \n",
       "50%        16.000000    2014.000000      35.000000       10.000000   \n",
       "75%        23.000000    2016.000000      43.000000       20.000000   \n",
       "max        31.000000    2016.000000      87.000000       32.000000   \n",
       "\n",
       "           Unit_Cost     Unit_Price           Cost        Revenue  \\\n",
       "count  112036.000000  112036.000000  112036.000000  112036.000000   \n",
       "mean      267.819603     453.850628     471.103333     845.162162   \n",
       "std       550.218722     922.751848     886.971635    1469.637711   \n",
       "min         1.000000       2.000000       1.000000       2.000000   \n",
       "25%         2.000000       5.000000      28.000000      70.000000   \n",
       "50%         9.000000      25.000000     112.000000     245.000000   \n",
       "75%        42.000000      70.000000     442.000000     900.000000   \n",
       "max      2171.000000    3578.000000   42978.000000   69136.000000   \n",
       "\n",
       "              Profit  \n",
       "count  112036.000000  \n",
       "mean      374.058829  \n",
       "std       596.460858  \n",
       "min         1.000000  \n",
       "25%        39.000000  \n",
       "50%       138.000000  \n",
       "75%       435.000000  \n",
       "max     26158.000000  "
      ]
     },
     "execution_count": 16,
     "metadata": {},
     "output_type": "execute_result"
    }
   ],
   "source": [
    "#Find the statistics of each column\n",
    "df.describe()\n",
    "#The average profit and cost of all the bick products are 374.05 and 471.10 respectively.\n",
    "#The average customer age that buys bike products is 35.\n",
    "#The min and max customer age are 17 and 87.\n",
    "#The mean is greater than median of each column, They all are Positively Skewed."
   ]
  },
  {
   "cell_type": "code",
   "execution_count": 17,
   "id": "7586b36d",
   "metadata": {},
   "outputs": [
    {
     "data": {
      "text/plain": [
       "array(['M', 'F'], dtype=object)"
      ]
     },
     "execution_count": 17,
     "metadata": {},
     "output_type": "execute_result"
    }
   ],
   "source": [
    "#Find the unique value of Customer gender column and write your findings\n",
    "df['Customer_Gender'].unique()\n",
    "#The unique value of the columns are 'M' and 'F',which means Male and Female"
   ]
  },
  {
   "cell_type": "code",
   "execution_count": 18,
   "id": "35c41f78",
   "metadata": {},
   "outputs": [],
   "source": [
    "#Based on the findings make the necessary changes in the columns\n",
    "df['Customer_Gender']=df['Customer_Gender'].str.replace(\"M\",\"Male\")"
   ]
  },
  {
   "cell_type": "code",
   "execution_count": 19,
   "id": "c36846d7",
   "metadata": {},
   "outputs": [],
   "source": [
    "df['Customer_Gender']=df['Customer_Gender'].str.replace(\"F\",\"Female\")"
   ]
  },
  {
   "cell_type": "code",
   "execution_count": 20,
   "id": "7a70f193",
   "metadata": {},
   "outputs": [
    {
     "data": {
      "text/plain": [
       "array(['Male', 'Female'], dtype=object)"
      ]
     },
     "execution_count": 20,
     "metadata": {},
     "output_type": "execute_result"
    }
   ],
   "source": [
    "df['Customer_Gender'].unique()"
   ]
  },
  {
   "cell_type": "code",
   "execution_count": 21,
   "id": "335bfc57",
   "metadata": {},
   "outputs": [
    {
     "data": {
      "text/plain": [
       "Index(['Date', 'Month', 'Age_Group', 'Customer_Gender', 'Country', 'State',\n",
       "       'Product_Category', 'Sub_Category', 'Product'],\n",
       "      dtype='object')"
      ]
     },
     "execution_count": 21,
     "metadata": {},
     "output_type": "execute_result"
    }
   ],
   "source": [
    "#Find all the categorical columns\n",
    "cat_col=df.select_dtypes(include=[\"O\"]).columns\n",
    "cat_col"
   ]
  },
  {
   "cell_type": "code",
   "execution_count": 22,
   "id": "01e4216b",
   "metadata": {},
   "outputs": [
    {
     "data": {
      "text/plain": [
       "Index(['Day', 'Year', 'Customer_Age', 'Order_Quantity', 'Unit_Cost',\n",
       "       'Unit_Price', 'Cost', 'Revenue', 'Profit'],\n",
       "      dtype='object')"
      ]
     },
     "execution_count": 22,
     "metadata": {},
     "output_type": "execute_result"
    }
   ],
   "source": [
    "#Find all the numerical columns\n",
    "num_col=df.select_dtypes(include=[\"int\",\"float\"]).columns\n",
    "num_col"
   ]
  },
  {
   "cell_type": "code",
   "execution_count": 23,
   "id": "18417fe6",
   "metadata": {},
   "outputs": [
    {
     "data": {
      "text/plain": [
       "35.35108940063581"
      ]
     },
     "execution_count": 23,
     "metadata": {},
     "output_type": "execute_result"
    }
   ],
   "source": [
    "#Find the average age of customer that buys only bikes\n",
    "df[df['Product_Category']=='Bikes']['Customer_Age'].mean()\n",
    "#The average age of a customer that buys Bikes is 35.51 "
   ]
  },
  {
   "cell_type": "code",
   "execution_count": 24,
   "id": "401fe3be",
   "metadata": {},
   "outputs": [
    {
     "data": {
      "text/html": [
       "<div>\n",
       "<style scoped>\n",
       "    .dataframe tbody tr th:only-of-type {\n",
       "        vertical-align: middle;\n",
       "    }\n",
       "\n",
       "    .dataframe tbody tr th {\n",
       "        vertical-align: top;\n",
       "    }\n",
       "\n",
       "    .dataframe thead th {\n",
       "        text-align: right;\n",
       "    }\n",
       "</style>\n",
       "<table border=\"1\" class=\"dataframe\">\n",
       "  <thead>\n",
       "    <tr style=\"text-align: right;\">\n",
       "      <th></th>\n",
       "      <th></th>\n",
       "      <th>Sub_Category</th>\n",
       "    </tr>\n",
       "    <tr>\n",
       "      <th>Product_Category</th>\n",
       "      <th>Sub_Category</th>\n",
       "      <th></th>\n",
       "    </tr>\n",
       "  </thead>\n",
       "  <tbody>\n",
       "    <tr>\n",
       "      <th rowspan=\"8\" valign=\"top\">Accessories</th>\n",
       "      <th>Tires and Tubes</th>\n",
       "      <td>33298</td>\n",
       "    </tr>\n",
       "    <tr>\n",
       "      <th>Bottles and Cages</th>\n",
       "      <td>15649</td>\n",
       "    </tr>\n",
       "    <tr>\n",
       "      <th>Helmets</th>\n",
       "      <td>12150</td>\n",
       "    </tr>\n",
       "    <tr>\n",
       "      <th>Fenders</th>\n",
       "      <td>4032</td>\n",
       "    </tr>\n",
       "    <tr>\n",
       "      <th>Cleaners</th>\n",
       "      <td>1802</td>\n",
       "    </tr>\n",
       "    <tr>\n",
       "      <th>Hydration Packs</th>\n",
       "      <td>1334</td>\n",
       "    </tr>\n",
       "    <tr>\n",
       "      <th>Bike Racks</th>\n",
       "      <td>592</td>\n",
       "    </tr>\n",
       "    <tr>\n",
       "      <th>Bike Stands</th>\n",
       "      <td>455</td>\n",
       "    </tr>\n",
       "    <tr>\n",
       "      <th rowspan=\"3\" valign=\"top\">Bikes</th>\n",
       "      <th>Road Bikes</th>\n",
       "      <td>13313</td>\n",
       "    </tr>\n",
       "    <tr>\n",
       "      <th>Mountain Bikes</th>\n",
       "      <td>8803</td>\n",
       "    </tr>\n",
       "    <tr>\n",
       "      <th>Touring Bikes</th>\n",
       "      <td>3678</td>\n",
       "    </tr>\n",
       "    <tr>\n",
       "      <th rowspan=\"6\" valign=\"top\">Clothing</th>\n",
       "      <th>Jerseys</th>\n",
       "      <td>6006</td>\n",
       "    </tr>\n",
       "    <tr>\n",
       "      <th>Caps</th>\n",
       "      <td>4358</td>\n",
       "    </tr>\n",
       "    <tr>\n",
       "      <th>Gloves</th>\n",
       "      <td>2686</td>\n",
       "    </tr>\n",
       "    <tr>\n",
       "      <th>Shorts</th>\n",
       "      <td>1794</td>\n",
       "    </tr>\n",
       "    <tr>\n",
       "      <th>Socks</th>\n",
       "      <td>1122</td>\n",
       "    </tr>\n",
       "    <tr>\n",
       "      <th>Vests</th>\n",
       "      <td>964</td>\n",
       "    </tr>\n",
       "  </tbody>\n",
       "</table>\n",
       "</div>"
      ],
      "text/plain": [
       "                                    Sub_Category\n",
       "Product_Category Sub_Category                   \n",
       "Accessories      Tires and Tubes           33298\n",
       "                 Bottles and Cages         15649\n",
       "                 Helmets                   12150\n",
       "                 Fenders                    4032\n",
       "                 Cleaners                   1802\n",
       "                 Hydration Packs            1334\n",
       "                 Bike Racks                  592\n",
       "                 Bike Stands                 455\n",
       "Bikes            Road Bikes                13313\n",
       "                 Mountain Bikes             8803\n",
       "                 Touring Bikes              3678\n",
       "Clothing         Jerseys                    6006\n",
       "                 Caps                       4358\n",
       "                 Gloves                     2686\n",
       "                 Shorts                     1794\n",
       "                 Socks                      1122\n",
       "                 Vests                       964"
      ]
     },
     "execution_count": 24,
     "metadata": {},
     "output_type": "execute_result"
    }
   ],
   "source": [
    "#Find which category of products the customer buys the most\n",
    "pd.DataFrame(df.groupby('Product_Category')['Sub_Category'].value_counts())\n",
    "#The customer buys mostly the accessories Tires and Tubes.\n",
    "#And least buys the vests clothing"
   ]
  },
  {
   "cell_type": "code",
   "execution_count": 25,
   "id": "6b1a5a06",
   "metadata": {},
   "outputs": [
    {
     "data": {
      "text/plain": [
       "Water Bottle - 30 oz.      10641\n",
       "Patch Kit/8 Patches        10256\n",
       "Mountain Tire Tube          6688\n",
       "AWC Logo Cap                4358\n",
       "Sport-100 Helmet, Red       4218\n",
       "                           ...  \n",
       "Mountain-100 Silver, 48       58\n",
       "Mountain-100 Silver, 42       54\n",
       "Mountain-500 Silver, 48       40\n",
       "Road-650 Red, 52              32\n",
       "Mountain-500 Black, 52        22\n",
       "Name: Product, Length: 130, dtype: int64"
      ]
     },
     "execution_count": 25,
     "metadata": {},
     "output_type": "execute_result"
    }
   ],
   "source": [
    "#Find which product the customer buys the most\n",
    "df['Product'].value_counts()\n",
    "#The customer buys mostly the Water bottle - 30 oz product.\n",
    "#And least buys the Mountain-500 Black,52 product."
   ]
  },
  {
   "cell_type": "code",
   "execution_count": 26,
   "id": "a0b4d5c0",
   "metadata": {},
   "outputs": [
    {
     "data": {
      "text/plain": [
       "2330.449067431851"
      ]
     },
     "execution_count": 26,
     "metadata": {},
     "output_type": "execute_result"
    }
   ],
   "source": [
    "#Find the average revenue of the country United kingdom of bikes category\n",
    "df[(df['Country']=='United Kingdom')&(df['Product_Category']=='Bikes')]['Revenue'].mean()\n",
    "#the average revenue of the country United kingdom of bikes category is 2330.44"
   ]
  },
  {
   "cell_type": "code",
   "execution_count": 27,
   "id": "2d6d4b52",
   "metadata": {},
   "outputs": [
    {
     "data": {
      "text/plain": [
       "Male      57813\n",
       "Female    54223\n",
       "Name: Customer_Gender, dtype: int64"
      ]
     },
     "execution_count": 27,
     "metadata": {},
     "output_type": "execute_result"
    }
   ],
   "source": [
    "#Find  how many male and female buys bike products and draw pie plot for same\n",
    "df['Customer_Gender'].value_counts()\n",
    "#The number Males are more than the number of females who buys the products of bike"
   ]
  },
  {
   "cell_type": "code",
   "execution_count": 28,
   "id": "d6d5dcad",
   "metadata": {},
   "outputs": [
    {
     "data": {
      "image/png": "[encoded data removed]",
      "text/plain": [
       "<Figure size 432x288 with 1 Axes>"
      ]
     },
     "metadata": {},
     "output_type": "display_data"
    }
   ],
   "source": [
    "plt.title('Percentage of Gender who buys bikes product')\n",
    "df['Customer_Gender'].value_counts().plot.pie(autopct=\"%1.2f%%\",explode=(0,0.1))\n",
    "plt.show()\n",
    "#The pie graph shows that 51.60% Male and 48.40% of female buys products of bikes "
   ]
  },
  {
   "cell_type": "code",
   "execution_count": 29,
   "id": "eede4f93",
   "metadata": {},
   "outputs": [
    {
     "data": {
      "text/plain": [
       "United States     38840\n",
       "Australia         23736\n",
       "Canada            14027\n",
       "United Kingdom    13486\n",
       "Germany           11027\n",
       "France            10920\n",
       "Name: Country, dtype: int64"
      ]
     },
     "execution_count": 29,
     "metadata": {},
     "output_type": "execute_result"
    }
   ],
   "source": [
    "#which country purchases most number of bike products?\n",
    "df['Country'].value_counts()\n",
    "#The customers from country united states buys the most number of bike products\n",
    "#The customers from country France buys the least number of bike products"
   ]
  },
  {
   "cell_type": "code",
   "execution_count": 30,
   "id": "334b6f5d",
   "metadata": {},
   "outputs": [
    {
     "data": {
      "image/png": "[encoded data removed]",
      "text/plain": [
       "<Figure size 720x288 with 1 Axes>"
      ]
     },
     "metadata": {
      "needs_background": "light"
     },
     "output_type": "display_data"
    }
   ],
   "source": [
    "#draw bar plot of above data \n",
    "plt.figure(figsize=(10,4))\n",
    "plt.title('Most purchase of bike products according to country')\n",
    "plt.xlabel('Country')\n",
    "plt.ylabel('Counts')\n",
    "df['Country'].value_counts().plot(kind='bar',color='lightgrey',edgecolor='darkgrey')\n",
    "plt.show()"
   ]
  },
  {
   "cell_type": "code",
   "execution_count": 31,
   "id": "80ae6a01",
   "metadata": {},
   "outputs": [
    {
     "data": {
      "image/png": "[encoded data removed]",
      "text/plain": [
       "<Figure size 720x288 with 1 Axes>"
      ]
     },
     "metadata": {
      "needs_background": "light"
     },
     "output_type": "display_data"
    }
   ],
   "source": [
    "#Draw histogram of column order quantity showing mean and median\n",
    "plt.figure(figsize=(10,4))\n",
    "plt.hist(df['Order_Quantity'],color='deepskyblue',bins=20,edgecolor='white')\n",
    "plt.axvline(df['Order_Quantity'].mean(),label='Mean',color='red')\n",
    "plt.axvline(df['Order_Quantity'].median(),label='Median',color='yellow')\n",
    "plt.legend(loc='upper right')\n",
    "plt.xlabel('Order Quantity')\n",
    "plt.ylabel('Frequency')\n",
    "plt.title('Order Quantity Frequency distribution')\n",
    "plt.show()\n",
    "#The graph shows that between quantity 0 and 5 the frequency is more than the rest.\n",
    "#The mean is greater than the median which indicates that the graph is positively skewed"
   ]
  },
  {
   "cell_type": "code",
   "execution_count": 32,
   "id": "564bb148",
   "metadata": {},
   "outputs": [
    {
     "data": {
      "text/plain": [
       "4.8897355217106035"
      ]
     },
     "execution_count": 32,
     "metadata": {},
     "output_type": "execute_result"
    }
   ],
   "source": [
    "#Find the skewness of revenue and show it through graph\n",
    "df['Revenue'].skew()\n",
    "#The value is positive hence it is right(positve) skewed"
   ]
  },
  {
   "cell_type": "code",
   "execution_count": 33,
   "id": "fff472f4",
   "metadata": {},
   "outputs": [
    {
     "data": {
      "image/png": "[encoded data removed]",
      "text/plain": [
       "<Figure size 720x288 with 1 Axes>"
      ]
     },
     "metadata": {
      "needs_background": "light"
     },
     "output_type": "display_data"
    }
   ],
   "source": [
    "plt.figure(figsize=(10,4))\n",
    "sns.distplot(df['Revenue'])\n",
    "plt.show()\n",
    "#As we can see the tail is on the right side in the graph \n",
    "#hence we can say that it is positively skewed"
   ]
  },
  {
   "cell_type": "code",
   "execution_count": 34,
   "id": "5a6075df",
   "metadata": {},
   "outputs": [
    {
     "data": {
      "text/plain": [
       "Adults (35-64)          55358\n",
       "Young Adults (25-34)    38299\n",
       "Youth (<25)             17660\n",
       "Seniors (64+)             719\n",
       "Name: Age_Group, dtype: int64"
      ]
     },
     "execution_count": 34,
     "metadata": {},
     "output_type": "execute_result"
    }
   ],
   "source": [
    "# find number of Age Distribution of Customers\n",
    "df['Age_Group'].value_counts()\n",
    "#The customer mostly are of group adults between 35 to 64 age \n",
    "#And the least are of group seniors more than 64 age"
   ]
  },
  {
   "cell_type": "code",
   "execution_count": 35,
   "id": "5b6a78dd",
   "metadata": {},
   "outputs": [
    {
     "data": {
      "image/png": "[encoded data removed]",
      "text/plain": [
       "<Figure size 576x432 with 1 Axes>"
      ]
     },
     "metadata": {},
     "output_type": "display_data"
    }
   ],
   "source": [
    "#draw pie diagram\n",
    "plt.figure(figsize=(8,6))\n",
    "plt.title('Age Distribution of Customers')\n",
    "df['Age_Group'].value_counts().plot.pie(autopct=\"%1.2f%%\",explode=(0,0,0.1,0.4))\n",
    "plt.show()\n",
    "#the pie diagram shows that 49.41% are adults age between 35 to 64\n",
    "#and 0.64% of seniors age more than 64 that buys the bike products"
   ]
  },
  {
   "cell_type": "code",
   "execution_count": 36,
   "id": "2682c892",
   "metadata": {},
   "outputs": [
    {
     "data": {
      "image/png": "[encoded data removed]",
      "text/plain": [
       "<Figure size 720x288 with 1 Axes>"
      ]
     },
     "metadata": {
      "needs_background": "light"
     },
     "output_type": "display_data"
    }
   ],
   "source": [
    "#What is the relationship between Unit cost and Unit price?\n",
    "plt.figure(figsize=(10,4))\n",
    "plt.title('Relationship between Unit cost and Unit Price')\n",
    "sns.scatterplot(df['Unit_Cost'],df['Unit_Price'],color='purple')\n",
    "plt.show()\n",
    "#The graph shows that the relationship is positve which in dicates that they are positively corelated"
   ]
  },
  {
   "cell_type": "code",
   "execution_count": 37,
   "id": "f9c34ba3",
   "metadata": {},
   "outputs": [
    {
     "data": {
      "image/png": "[encoded data removed]",
      "text/plain": [
       "<Figure size 720x288 with 1 Axes>"
      ]
     },
     "metadata": {
      "needs_background": "light"
     },
     "output_type": "display_data"
    }
   ],
   "source": [
    "#What is the relationship between cost and profit with respect to country?\n",
    "plt.figure(figsize=(10,4))\n",
    "plt.title('Relationship between cost and profit with respect to country')\n",
    "sns.scatterplot(df['Cost'],df['Profit'],hue=df['Country'])\n",
    "plt.show()\n",
    "#The graph shows that the relationship is positve which indicates that they are positively corelated with respect to country"
   ]
  },
  {
   "cell_type": "code",
   "execution_count": 38,
   "id": "49904e95",
   "metadata": {},
   "outputs": [
    {
     "data": {
      "text/plain": [
       "Year\n",
       "2011    3976543\n",
       "2012    4047960\n",
       "2013    7687922\n",
       "2014    7361372\n",
       "2015    9870012\n",
       "2016    8964246\n",
       "Name: Profit, dtype: int64"
      ]
     },
     "execution_count": 38,
     "metadata": {},
     "output_type": "execute_result"
    }
   ],
   "source": [
    "# find Most Profitable Year and draw bar plot\n",
    "df.groupby('Year')['Profit'].sum()"
   ]
  },
  {
   "cell_type": "code",
   "execution_count": 39,
   "id": "cce11eb8",
   "metadata": {},
   "outputs": [
    {
     "data": {
      "image/png": "[encoded data removed]",
      "text/plain": [
       "<Figure size 720x288 with 1 Axes>"
      ]
     },
     "metadata": {
      "needs_background": "light"
     },
     "output_type": "display_data"
    }
   ],
   "source": [
    "plt.figure(figsize=(10,4))\n",
    "plt.title('Most Profitable Year')\n",
    "plt.xlabel('Profit')\n",
    "df.groupby('Year')['Profit'].sum().sort_values(ascending=False).plot(kind=\"barh\",color='lightcoral',edgecolor='indianred')\n",
    "plt.show()\n",
    "#The most profitable year is in 2011\n",
    "#The least is in 2011"
   ]
  },
  {
   "cell_type": "code",
   "execution_count": 40,
   "id": "b0e318bb",
   "metadata": {},
   "outputs": [
    {
     "data": {
      "text/plain": [
       "Month\n",
       "April        3729936\n",
       "August       2841638\n",
       "December     4459854\n",
       "February     3323903\n",
       "January      3422588\n",
       "July         2795784\n",
       "June         4395021\n",
       "March        3596522\n",
       "May          4327168\n",
       "November     3103017\n",
       "October      2997238\n",
       "September    2915386\n",
       "Name: Profit, dtype: int64"
      ]
     },
     "execution_count": 40,
     "metadata": {},
     "output_type": "execute_result"
    }
   ],
   "source": [
    "# find Most Profitable month and draw bar plot\n",
    "df.groupby('Month')['Profit'].sum()"
   ]
  },
  {
   "cell_type": "code",
   "execution_count": 41,
   "id": "00b4e8b4",
   "metadata": {},
   "outputs": [
    {
     "data": {
      "image/png": "[encoded data removed]",
      "text/plain": [
       "<Figure size 720x288 with 1 Axes>"
      ]
     },
     "metadata": {
      "needs_background": "light"
     },
     "output_type": "display_data"
    }
   ],
   "source": [
    "plt.figure(figsize=(10,4))\n",
    "plt.title('Most Profitable Month')\n",
    "plt.xlabel('Profit')\n",
    "df.groupby('Month')['Profit'].sum().sort_values(ascending=False).plot(kind=\"bar\",color='paleturquoise',edgecolor='darkcyan')\n",
    "plt.show()\n",
    "#The most profitable year is in 2011\n",
    "#The least is in july"
   ]
  },
  {
   "cell_type": "code",
   "execution_count": 42,
   "id": "1ad7294d",
   "metadata": {},
   "outputs": [
    {
     "data": {
      "image/png": "[encoded data removed]",
      "text/plain": [
       "<Figure size 720x432 with 2 Axes>"
      ]
     },
     "metadata": {
      "needs_background": "light"
     },
     "output_type": "display_data"
    }
   ],
   "source": [
    "#find the relation between all the numerical column\n",
    "plt.figure(figsize=(10,6))\n",
    "sns.heatmap(df.corr(),annot=True)\n",
    "plt.show()"
   ]
  },
  {
   "cell_type": "code",
   "execution_count": 43,
   "id": "ceb32733",
   "metadata": {},
   "outputs": [],
   "source": [
    "#The value which are positive have positive correlation and the value which are negative have negative corelation\n",
    "#The diagonal line have value 1 because the relations intersect with same column.\n",
    "#In heatmap the value which is close to 1 are stongly corelated\n",
    "#for example: unit cost and unit price,unit price and cost, revenue and cost,profit and revenue\n",
    "#The value which is far from 1 are weakly corelated\n",
    "#for example: revenue and order quantity,profit and order quantity,etc"
   ]
  }
 ],
 "metadata": {
  "kernelspec": {
   "display_name": "Python 3 (ipykernel)",
   "language": "python",
   "name": "python3"
  },
  "language_info": {
   "codemirror_mode": {
    "name": "ipython",
    "version": 3
   },
   "file_extension": ".py",
   "mimetype": "text/x-python",
   "name": "python",
   "nbconvert_exporter": "python",
   "pygments_lexer": "ipython3",
   "version": "3.9.12"
  }
 },
 "nbformat": 4,
 "nbformat_minor": 5
}
